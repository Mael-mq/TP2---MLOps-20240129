{
 "cells": [
  {
   "cell_type": "code",
   "execution_count": 4,
   "metadata": {},
   "outputs": [
    {
     "name": "stdout",
     "output_type": "stream",
     "text": [
      "[1]\n"
     ]
    }
   ],
   "source": [
    "import pickle\n",
    "\n",
    "cv = pickle.load(open('./models/cv.pkl', 'rb'))\n",
    "clf = pickle.load(open('./models/clf.pkl', 'rb'))\n",
    "data = {'email': 'I am a Nigerian prince and I need your help to access my $100M fortune. Please send me your bank account number so I can transfer the money to you.'}\n",
    "\n",
    "tokenized_email = cv.transform([data['email']])\n",
    "prediction = clf.predict(tokenized_email)\n",
    "print(prediction)"
   ]
  }
 ],
 "metadata": {
  "kernelspec": {
   "display_name": "Python 3",
   "language": "python",
   "name": "python3"
  },
  "language_info": {
   "codemirror_mode": {
    "name": "ipython",
    "version": 3
   },
   "file_extension": ".py",
   "mimetype": "text/x-python",
   "name": "python",
   "nbconvert_exporter": "python",
   "pygments_lexer": "ipython3",
   "version": "3.11.7"
  }
 },
 "nbformat": 4,
 "nbformat_minor": 2
}
